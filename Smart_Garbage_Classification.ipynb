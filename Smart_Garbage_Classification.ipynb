{
  "nbformat": 4,
  "nbformat_minor": 0,
  "metadata": {
    "colab": {
      "provenance": [],
      "gpuType": "T4",
      "authorship_tag": "ABX9TyNwIBJM1Cx/MYPK7fZTvcwq",
      "include_colab_link": true
    },
    "kernelspec": {
      "name": "python3",
      "display_name": "Python 3"
    },
    "language_info": {
      "name": "python"
    },
    "accelerator": "GPU"
  },
  "cells": [
    {
      "cell_type": "markdown",
      "metadata": {
        "id": "view-in-github",
        "colab_type": "text"
      },
      "source": [
        "<a href=\"https://colab.research.google.com/github/varshitha102/Smart-Waste-Classifier/blob/main/Smart_Garbage_Classification.ipynb\" target=\"_parent\"><img src=\"https://colab.research.google.com/assets/colab-badge.svg\" alt=\"Open In Colab\"/></a>"
      ]
    },
    {
      "cell_type": "code",
      "execution_count": null,
      "metadata": {
        "colab": {
          "base_uri": "https://localhost:8080/"
        },
        "id": "Hmc0r8l2hrIC",
        "outputId": "4ab63207-b2c7-435d-aa36-3fd55ebf7f4b"
      },
      "outputs": [
        {
          "output_type": "stream",
          "name": "stdout",
          "text": [
            "Requirement already satisfied: kaggle in /usr/local/lib/python3.11/dist-packages (1.7.4.5)\n",
            "Requirement already satisfied: bleach in /usr/local/lib/python3.11/dist-packages (from kaggle) (6.2.0)\n",
            "Requirement already satisfied: certifi>=14.05.14 in /usr/local/lib/python3.11/dist-packages (from kaggle) (2025.7.14)\n",
            "Requirement already satisfied: charset-normalizer in /usr/local/lib/python3.11/dist-packages (from kaggle) (3.4.2)\n",
            "Requirement already satisfied: idna in /usr/local/lib/python3.11/dist-packages (from kaggle) (3.10)\n",
            "Requirement already satisfied: protobuf in /usr/local/lib/python3.11/dist-packages (from kaggle) (5.29.5)\n",
            "Requirement already satisfied: python-dateutil>=2.5.3 in /usr/local/lib/python3.11/dist-packages (from kaggle) (2.9.0.post0)\n",
            "Requirement already satisfied: python-slugify in /usr/local/lib/python3.11/dist-packages (from kaggle) (8.0.4)\n",
            "Requirement already satisfied: requests in /usr/local/lib/python3.11/dist-packages (from kaggle) (2.32.3)\n",
            "Requirement already satisfied: setuptools>=21.0.0 in /usr/local/lib/python3.11/dist-packages (from kaggle) (75.2.0)\n",
            "Requirement already satisfied: six>=1.10 in /usr/local/lib/python3.11/dist-packages (from kaggle) (1.17.0)\n",
            "Requirement already satisfied: text-unidecode in /usr/local/lib/python3.11/dist-packages (from kaggle) (1.3)\n",
            "Requirement already satisfied: tqdm in /usr/local/lib/python3.11/dist-packages (from kaggle) (4.67.1)\n",
            "Requirement already satisfied: urllib3>=1.15.1 in /usr/local/lib/python3.11/dist-packages (from kaggle) (2.4.0)\n",
            "Requirement already satisfied: webencodings in /usr/local/lib/python3.11/dist-packages (from kaggle) (0.5.1)\n",
            "Dataset URL: https://www.kaggle.com/datasets/sumn2u/garbage-classification-v2\n",
            "License(s): MIT\n",
            "garbage-classification-v2.zip: Skipping, found more recently modified local copy (use --force to force download)\n",
            "Archive:  garbage-classification-v2.zip\n",
            "replace garbage_data/garbage-dataset/battery/battery_1.jpg? [y]es, [n]o, [A]ll, [N]one, [r]ename: N\n"
          ]
        }
      ],
      "source": [
        "!pip install kaggle\n",
        "!mkdir -p ~/.kaggle\n",
        "!cp kaggle.json ~/.kaggle/\n",
        "!chmod 600 ~/.kaggle/kaggle.json\n",
        "\n",
        "!kaggle datasets download -d sumn2u/garbage-classification-v2\n",
        "!unzip garbage-classification-v2.zip -d garbage_data"
      ]
    },
    {
      "cell_type": "markdown",
      "source": [
        "# ** 1. Setup and Imports**"
      ],
      "metadata": {
        "id": "oFg1Dk75kWzq"
      }
    },
    {
      "cell_type": "code",
      "source": [
        "import os\n",
        "import torch\n",
        "import torch.nn as nn\n",
        "import torch.nn.functional as F\n",
        "from torchvision import datasets, transforms, models\n",
        "from torch.utils.data import DataLoader\n",
        "from PIL import Image\n",
        "from tqdm import tqdm\n",
        "\n",
        "# Device\n",
        "device = torch.device(\"cuda\" if torch.cuda.is_available() else \"cpu\")\n",
        "\n",
        "# Classes (Adjust if needed)\n",
        "class_names = ['battery', 'biological', 'cardboard', 'clothes', 'glass',\n",
        "               'metal', 'paper', 'plastic', 'shoes', 'trash']\n",
        "num_classes = len(class_names)\n"
      ],
      "metadata": {
        "id": "Hdp3u6BRiSfu"
      },
      "execution_count": null,
      "outputs": []
    },
    {
      "cell_type": "markdown",
      "source": [
        "### 2. Dataset and DataLoader"
      ],
      "metadata": {
        "id": "uDwQorwJkitP"
      }
    },
    {
      "cell_type": "code",
      "source": [
        "# Directory of the dataset\n",
        "data_dir = \"/content/garbage_data/garbage-dataset\"\n",
        "\n",
        "# Transforms (ImageNet style)\n",
        "transform = transforms.Compose([\n",
        "    transforms.Resize((224, 224)),\n",
        "    transforms.ToTensor(),\n",
        "    transforms.Normalize([0.485, 0.456, 0.406],\n",
        "                         [0.229, 0.224, 0.225])\n",
        "])\n",
        "\n",
        "# Load the dataset\n",
        "full_dataset = datasets.ImageFolder(data_dir, transform=transform)\n",
        "dataloader = DataLoader(full_dataset, batch_size=32, shuffle=True)\n"
      ],
      "metadata": {
        "id": "_HnvYPXKiVzM"
      },
      "execution_count": null,
      "outputs": []
    },
    {
      "cell_type": "markdown",
      "source": [
        "### 3. Model Loader Function (ResNet, MobileNet, EfficientNet)"
      ],
      "metadata": {
        "id": "KaT9BBt6kn7H"
      }
    },
    {
      "cell_type": "code",
      "source": [
        "def get_model(name):\n",
        "    if name == \"resnet\":\n",
        "        model = models.resnet18(pretrained=True)\n",
        "        model.fc = nn.Linear(model.fc.in_features, num_classes)\n",
        "\n",
        "    elif name == \"mobilenet\":\n",
        "        model = models.mobilenet_v2(pretrained=True)\n",
        "        model.classifier[1] = nn.Linear(model.last_channel, num_classes)\n",
        "\n",
        "    elif name == \"efficientnet\":\n",
        "        model = models.efficientnet_b0(pretrained=True)\n",
        "        model.classifier[1] = nn.Linear(model.classifier[1].in_features, num_classes)\n",
        "\n",
        "    else:\n",
        "        raise ValueError(\"❌ Unsupported model name\")\n",
        "\n",
        "    return model.to(device)\n"
      ],
      "metadata": {
        "id": "Ysv-RsoRiXtk"
      },
      "execution_count": null,
      "outputs": []
    },
    {
      "cell_type": "markdown",
      "source": [
        "### 4. Training Function"
      ],
      "metadata": {
        "id": "lgcdutNnksDo"
      }
    },
    {
      "cell_type": "code",
      "source": [
        "def train_model(model_name, num_epochs=10):\n",
        "    model = get_model(model_name)\n",
        "    criterion = nn.CrossEntropyLoss()\n",
        "    optimizer = torch.optim.Adam(model.parameters(), lr=3e-4)\n",
        "\n",
        "    for epoch in range(num_epochs):\n",
        "        model.train()\n",
        "        total_loss, correct, total = 0.0, 0, 0\n",
        "\n",
        "        for images, labels in tqdm(dataloader, desc=f\"{model_name.upper()} Epoch {epoch+1}/{num_epochs}\"):\n",
        "            images, labels = images.to(device), labels.to(device)\n",
        "\n",
        "            optimizer.zero_grad()\n",
        "            outputs = model(images)\n",
        "            loss = criterion(outputs, labels)\n",
        "            loss.backward()\n",
        "            optimizer.step()\n",
        "\n",
        "            total_loss += loss.item()\n",
        "            preds = outputs.argmax(dim=1)\n",
        "            correct += (preds == labels).sum().item()\n",
        "            total += labels.size(0)\n",
        "\n",
        "        acc = 100 * correct / total\n",
        "        print(f\"✅ {model_name.upper()} Epoch {epoch+1}: Loss={total_loss/len(dataloader):.4f}, Acc={acc:.2f}%\")\n",
        "\n",
        "    torch.save(model.state_dict(), f\"{model_name}_garbage.pth\")\n",
        "    print(f\"📦 Saved model as {model_name}_garbage.pth\")\n",
        "    return model\n"
      ],
      "metadata": {
        "id": "DcK4M4_5iZPN"
      },
      "execution_count": null,
      "outputs": []
    },
    {
      "cell_type": "markdown",
      "source": [
        "### 5. Prediction Function"
      ],
      "metadata": {
        "id": "ndY9_Vh_kxjs"
      }
    },
    {
      "cell_type": "code",
      "source": [
        "from PIL import Image\n",
        "import torch.nn.functional as F\n",
        "from torchvision import transforms\n",
        "\n",
        "# Define which classes are biodegradable\n",
        "BIODEGRADABLE_CLASSES = {'biological', 'cardboard', 'clothes', 'paper', 'shoes'}\n",
        "\n",
        "def predict_image(img_path, model, class_names):\n",
        "    model.eval()\n",
        "\n",
        "    # Image transformation (inside the function)\n",
        "    transform = transforms.Compose([\n",
        "        transforms.Resize((224, 224)),\n",
        "        transforms.ToTensor()\n",
        "    ])\n",
        "\n",
        "    # Load and preprocess the image\n",
        "    image = Image.open(img_path).convert('RGB')\n",
        "    image = transform(image).unsqueeze(0).to(device)\n",
        "\n",
        "    with torch.no_grad():\n",
        "        outputs = model(image)\n",
        "        probs = F.softmax(outputs, dim=1)\n",
        "        conf, predicted = torch.max(probs, 1)\n",
        "\n",
        "    class_name = class_names[predicted.item()]\n",
        "    waste_type = \"Biodegradable\" if class_name in BIODEGRADABLE_CLASSES else \"Non-Biodegradable\"\n",
        "\n",
        "    print(f\"🧠 Predicted: {class_name} ({conf.item()*100:.2f}%) ➡️ {waste_type}\")\n",
        "    return class_name, waste_type\n"
      ],
      "metadata": {
        "id": "pnEM7GGiia9c"
      },
      "execution_count": null,
      "outputs": []
    },
    {
      "cell_type": "markdown",
      "source": [
        "6. Testing"
      ],
      "metadata": {
        "id": "Jn6Aza7Hk1bE"
      }
    },
    {
      "cell_type": "code",
      "source": [
        "# Train any model\n",
        "model1 = train_model(\"efficientnet\")  # Options: \"resnet\", \"mobilenet\", \"efficientnet\"\n",
        "\n",
        "# Predict on a new image\n",
        "# predict_image(\"path_to_image.jpg\", model, transform, class_names)"
      ],
      "metadata": {
        "colab": {
          "base_uri": "https://localhost:8080/"
        },
        "id": "mnknCwsIicTF",
        "outputId": "89d3065e-118e-42c9-a5c5-0db2efd820e6"
      },
      "execution_count": null,
      "outputs": [
        {
          "metadata": {
            "tags": null
          },
          "name": "stderr",
          "output_type": "stream",
          "text": [
            "/usr/local/lib/python3.11/dist-packages/torchvision/models/_utils.py:208: UserWarning: The parameter 'pretrained' is deprecated since 0.13 and may be removed in the future, please use 'weights' instead.\n",
            "  warnings.warn(\n",
            "/usr/local/lib/python3.11/dist-packages/torchvision/models/_utils.py:223: UserWarning: Arguments other than a weight enum or `None` for 'weights' are deprecated since 0.13 and may be removed in the future. The current behavior is equivalent to passing `weights=EfficientNet_B0_Weights.IMAGENET1K_V1`. You can also use `weights=EfficientNet_B0_Weights.DEFAULT` to get the most up-to-date weights.\n",
            "  warnings.warn(msg)\n",
            "EFFICIENTNET Epoch 1/10: 100%|██████████| 618/618 [03:12<00:00,  3.22it/s]\n"
          ]
        },
        {
          "metadata": {
            "tags": null
          },
          "name": "stdout",
          "output_type": "stream",
          "text": [
            "✅ EFFICIENTNET Epoch 1: Loss=0.3494, Acc=89.45%\n"
          ]
        },
        {
          "metadata": {
            "tags": null
          },
          "name": "stderr",
          "output_type": "stream",
          "text": [
            "EFFICIENTNET Epoch 2/10: 100%|██████████| 618/618 [03:12<00:00,  3.21it/s]\n"
          ]
        },
        {
          "metadata": {
            "tags": null
          },
          "name": "stdout",
          "output_type": "stream",
          "text": [
            "✅ EFFICIENTNET Epoch 2: Loss=0.1300, Acc=95.77%\n"
          ]
        },
        {
          "metadata": {
            "tags": null
          },
          "name": "stderr",
          "output_type": "stream",
          "text": [
            "EFFICIENTNET Epoch 3/10: 100%|██████████| 618/618 [03:14<00:00,  3.17it/s]\n"
          ]
        },
        {
          "metadata": {
            "tags": null
          },
          "name": "stdout",
          "output_type": "stream",
          "text": [
            "✅ EFFICIENTNET Epoch 3: Loss=0.0838, Acc=97.18%\n"
          ]
        },
        {
          "metadata": {
            "tags": null
          },
          "name": "stderr",
          "output_type": "stream",
          "text": [
            "EFFICIENTNET Epoch 4/10: 100%|██████████| 618/618 [03:10<00:00,  3.24it/s]\n"
          ]
        },
        {
          "metadata": {
            "tags": null
          },
          "name": "stdout",
          "output_type": "stream",
          "text": [
            "✅ EFFICIENTNET Epoch 4: Loss=0.0659, Acc=97.90%\n"
          ]
        },
        {
          "metadata": {
            "tags": null
          },
          "name": "stderr",
          "output_type": "stream",
          "text": [
            "EFFICIENTNET Epoch 5/10: 100%|██████████| 618/618 [03:10<00:00,  3.25it/s]\n"
          ]
        },
        {
          "metadata": {
            "tags": null
          },
          "name": "stdout",
          "output_type": "stream",
          "text": [
            "✅ EFFICIENTNET Epoch 5: Loss=0.0530, Acc=98.31%\n"
          ]
        },
        {
          "metadata": {
            "tags": null
          },
          "name": "stderr",
          "output_type": "stream",
          "text": [
            "EFFICIENTNET Epoch 6/10: 100%|██████████| 618/618 [03:10<00:00,  3.25it/s]\n"
          ]
        },
        {
          "metadata": {
            "tags": null
          },
          "name": "stdout",
          "output_type": "stream",
          "text": [
            "✅ EFFICIENTNET Epoch 6: Loss=0.0483, Acc=98.38%\n"
          ]
        },
        {
          "output_type": "stream",
          "name": "stderr",
          "text": [
            "EFFICIENTNET Epoch 7/10: 100%|██████████| 618/618 [03:10<00:00,  3.25it/s]\n"
          ]
        },
        {
          "output_type": "stream",
          "name": "stdout",
          "text": [
            "✅ EFFICIENTNET Epoch 7: Loss=0.0415, Acc=98.67%\n"
          ]
        },
        {
          "output_type": "stream",
          "name": "stderr",
          "text": [
            "EFFICIENTNET Epoch 8/10: 100%|██████████| 618/618 [03:10<00:00,  3.25it/s]\n"
          ]
        },
        {
          "output_type": "stream",
          "name": "stdout",
          "text": [
            "✅ EFFICIENTNET Epoch 8: Loss=0.0395, Acc=98.69%\n"
          ]
        },
        {
          "output_type": "stream",
          "name": "stderr",
          "text": [
            "EFFICIENTNET Epoch 9/10: 100%|██████████| 618/618 [03:09<00:00,  3.26it/s]\n"
          ]
        },
        {
          "output_type": "stream",
          "name": "stdout",
          "text": [
            "✅ EFFICIENTNET Epoch 9: Loss=0.0390, Acc=98.59%\n"
          ]
        },
        {
          "output_type": "stream",
          "name": "stderr",
          "text": [
            "EFFICIENTNET Epoch 10/10: 100%|██████████| 618/618 [03:09<00:00,  3.26it/s]\n"
          ]
        },
        {
          "output_type": "stream",
          "name": "stdout",
          "text": [
            "✅ EFFICIENTNET Epoch 10: Loss=0.0347, Acc=98.90%\n",
            "📦 Saved model as efficientnet_garbage.pth\n"
          ]
        }
      ]
    },
    {
      "cell_type": "code",
      "source": [
        "predict_image(\"/content/image1.jpg\", model1,class_names)"
      ],
      "metadata": {
        "colab": {
          "base_uri": "https://localhost:8080/"
        },
        "id": "Il4vtdHzsGUC",
        "outputId": "6afb1874-19e6-4e6f-d32f-b90a5507eacd"
      },
      "execution_count": null,
      "outputs": [
        {
          "output_type": "stream",
          "name": "stdout",
          "text": [
            "🧠 Predicted: clothes (98.31%) ➡️ Biodegradable\n"
          ]
        },
        {
          "output_type": "execute_result",
          "data": {
            "text/plain": [
              "('clothes', 'Biodegradable')"
            ]
          },
          "metadata": {},
          "execution_count": 20
        }
      ]
    },
    {
      "cell_type": "code",
      "source": [
        "# Train any model\n",
        "model2 = train_model(\"resnet\")  # Options: \"resnet\", \"mobilenet\", \"efficientnet\"\n",
        "\n"
      ],
      "metadata": {
        "colab": {
          "base_uri": "https://localhost:8080/",
          "height": 654
        },
        "id": "QyQvDUNqmY70",
        "outputId": "2c9304c7-e1ba-44c6-e1e7-62a698b3ee74"
      },
      "execution_count": null,
      "outputs": [
        {
          "output_type": "stream",
          "name": "stderr",
          "text": [
            "/usr/local/lib/python3.11/dist-packages/torchvision/models/_utils.py:223: UserWarning: Arguments other than a weight enum or `None` for 'weights' are deprecated since 0.13 and may be removed in the future. The current behavior is equivalent to passing `weights=ResNet18_Weights.IMAGENET1K_V1`. You can also use `weights=ResNet18_Weights.DEFAULT` to get the most up-to-date weights.\n",
            "  warnings.warn(msg)\n",
            "Downloading: \"https://download.pytorch.org/models/resnet18-f37072fd.pth\" to /root/.cache/torch/hub/checkpoints/resnet18-f37072fd.pth\n",
            "100%|██████████| 44.7M/44.7M [00:00<00:00, 95.8MB/s]\n",
            "RESNET Epoch 1/10: 100%|██████████| 618/618 [02:37<00:00,  3.93it/s]\n"
          ]
        },
        {
          "output_type": "stream",
          "name": "stdout",
          "text": [
            "✅ RESNET Epoch 1: Loss=0.3981, Acc=87.25%\n"
          ]
        },
        {
          "output_type": "stream",
          "name": "stderr",
          "text": [
            "RESNET Epoch 2/10: 100%|██████████| 618/618 [02:34<00:00,  4.00it/s]\n"
          ]
        },
        {
          "output_type": "stream",
          "name": "stdout",
          "text": [
            "✅ RESNET Epoch 2: Loss=0.2068, Acc=93.31%\n"
          ]
        },
        {
          "output_type": "stream",
          "name": "stderr",
          "text": [
            "RESNET Epoch 3/10: 100%|██████████| 618/618 [02:34<00:00,  3.99it/s]\n"
          ]
        },
        {
          "output_type": "stream",
          "name": "stdout",
          "text": [
            "✅ RESNET Epoch 3: Loss=0.1321, Acc=95.77%\n"
          ]
        },
        {
          "output_type": "stream",
          "name": "stderr",
          "text": [
            "RESNET Epoch 4/10: 100%|██████████| 618/618 [02:35<00:00,  3.98it/s]\n"
          ]
        },
        {
          "output_type": "stream",
          "name": "stdout",
          "text": [
            "✅ RESNET Epoch 4: Loss=0.1123, Acc=96.20%\n"
          ]
        },
        {
          "output_type": "stream",
          "name": "stderr",
          "text": [
            "RESNET Epoch 5/10: 100%|██████████| 618/618 [02:35<00:00,  3.99it/s]\n"
          ]
        },
        {
          "output_type": "stream",
          "name": "stdout",
          "text": [
            "✅ RESNET Epoch 5: Loss=0.0843, Acc=97.23%\n"
          ]
        },
        {
          "output_type": "stream",
          "name": "stderr",
          "text": [
            "RESNET Epoch 6/10: 100%|██████████| 618/618 [02:35<00:00,  3.96it/s]\n"
          ]
        },
        {
          "output_type": "stream",
          "name": "stdout",
          "text": [
            "✅ RESNET Epoch 6: Loss=0.0835, Acc=97.27%\n"
          ]
        },
        {
          "output_type": "stream",
          "name": "stderr",
          "text": [
            "RESNET Epoch 7/10: 100%|██████████| 618/618 [02:35<00:00,  3.98it/s]\n"
          ]
        },
        {
          "output_type": "stream",
          "name": "stdout",
          "text": [
            "✅ RESNET Epoch 7: Loss=0.0659, Acc=97.84%\n"
          ]
        },
        {
          "output_type": "stream",
          "name": "stderr",
          "text": [
            "RESNET Epoch 8/10: 100%|██████████| 618/618 [02:35<00:00,  3.97it/s]\n"
          ]
        },
        {
          "output_type": "stream",
          "name": "stdout",
          "text": [
            "✅ RESNET Epoch 8: Loss=0.0606, Acc=97.93%\n"
          ]
        },
        {
          "output_type": "stream",
          "name": "stderr",
          "text": [
            "RESNET Epoch 9/10: 100%|██████████| 618/618 [02:36<00:00,  3.95it/s]\n"
          ]
        },
        {
          "output_type": "stream",
          "name": "stdout",
          "text": [
            "✅ RESNET Epoch 9: Loss=0.0457, Acc=98.56%\n"
          ]
        },
        {
          "output_type": "stream",
          "name": "stderr",
          "text": [
            "RESNET Epoch 10/10: 100%|██████████| 618/618 [02:36<00:00,  3.94it/s]\n"
          ]
        },
        {
          "output_type": "stream",
          "name": "stdout",
          "text": [
            "✅ RESNET Epoch 10: Loss=0.0512, Acc=98.29%\n",
            "📦 Saved model as resnet_garbage.pth\n"
          ]
        },
        {
          "output_type": "error",
          "ename": "TypeError",
          "evalue": "predict_image() takes 3 positional arguments but 4 were given",
          "traceback": [
            "\u001b[0;31m---------------------------------------------------------------------------\u001b[0m",
            "\u001b[0;31mTypeError\u001b[0m                                 Traceback (most recent call last)",
            "\u001b[0;32m/tmp/ipython-input-21-1204926082.py\u001b[0m in \u001b[0;36m<cell line: 0>\u001b[0;34m()\u001b[0m\n\u001b[1;32m      3\u001b[0m \u001b[0;34m\u001b[0m\u001b[0m\n\u001b[1;32m      4\u001b[0m \u001b[0;31m# Predict on a new image\u001b[0m\u001b[0;34m\u001b[0m\u001b[0;34m\u001b[0m\u001b[0m\n\u001b[0;32m----> 5\u001b[0;31m \u001b[0mpredict_image\u001b[0m\u001b[0;34m(\u001b[0m\u001b[0;34m\"/content/image1.jpg\"\u001b[0m\u001b[0;34m,\u001b[0m \u001b[0mmodel2\u001b[0m\u001b[0;34m,\u001b[0m \u001b[0mtransform\u001b[0m\u001b[0;34m,\u001b[0m \u001b[0mclass_names\u001b[0m\u001b[0;34m)\u001b[0m\u001b[0;34m\u001b[0m\u001b[0;34m\u001b[0m\u001b[0m\n\u001b[0m",
            "\u001b[0;31mTypeError\u001b[0m: predict_image() takes 3 positional arguments but 4 were given"
          ]
        }
      ]
    },
    {
      "cell_type": "code",
      "source": [
        "# 4 # Predict on a new image\n",
        "# 5 predict_image(\"/content/image1.jpg\", model2, transform, class_names)\n",
        "\n",
        "# TypeError: predict_image() takes 3 positional arguments but 4 were given\n",
        "# cleared that error here\n",
        "\n",
        "# Predict on a new image\n",
        "predict_image(\"/content/plastic_bottl.jpg\", model2, class_names)"
      ],
      "metadata": {
        "colab": {
          "base_uri": "https://localhost:8080/"
        },
        "id": "4LtCRH6F04tY",
        "outputId": "203d330c-551e-4692-ec97-b184c7fafe59"
      },
      "execution_count": null,
      "outputs": [
        {
          "output_type": "stream",
          "name": "stdout",
          "text": [
            "🧠 Predicted: clothes (82.72%) ➡️ Biodegradable\n"
          ]
        },
        {
          "output_type": "execute_result",
          "data": {
            "text/plain": [
              "('clothes', 'Biodegradable')"
            ]
          },
          "metadata": {},
          "execution_count": 25
        }
      ]
    },
    {
      "cell_type": "code",
      "source": [
        "# Train any model\n",
        "model3 = train_model(\"mobilenet\")  # Options: \"resnet\", \"mobilenet\", \"efficientnet\"\n",
        "\n",
        "# Predict on a new image\n",
        "predict_image(\"/content/plastic_bottl.jpg\", model3, class_names)\n"
      ],
      "metadata": {
        "colab": {
          "base_uri": "https://localhost:8080/"
        },
        "id": "T0HAKfa-mcH1",
        "outputId": "41fbc885-486c-4cd9-8b46-70ad0f6c6b0b"
      },
      "execution_count": null,
      "outputs": [
        {
          "metadata": {
            "tags": null
          },
          "name": "stderr",
          "output_type": "stream",
          "text": [
            "/usr/local/lib/python3.11/dist-packages/torchvision/models/_utils.py:208: UserWarning: The parameter 'pretrained' is deprecated since 0.13 and may be removed in the future, please use 'weights' instead.\n",
            "  warnings.warn(\n",
            "/usr/local/lib/python3.11/dist-packages/torchvision/models/_utils.py:223: UserWarning: Arguments other than a weight enum or `None` for 'weights' are deprecated since 0.13 and may be removed in the future. The current behavior is equivalent to passing `weights=MobileNet_V2_Weights.IMAGENET1K_V1`. You can also use `weights=MobileNet_V2_Weights.DEFAULT` to get the most up-to-date weights.\n",
            "  warnings.warn(msg)\n",
            "Downloading: \"https://download.pytorch.org/models/mobilenet_v2-b0353104.pth\" to /root/.cache/torch/hub/checkpoints/mobilenet_v2-b0353104.pth\n",
            "100%|██████████| 13.6M/13.6M [00:00<00:00, 90.6MB/s]\n",
            "MOBILENET Epoch 1/10: 100%|██████████| 618/618 [02:49<00:00,  3.64it/s]\n"
          ]
        },
        {
          "metadata": {
            "tags": null
          },
          "name": "stdout",
          "output_type": "stream",
          "text": [
            "✅ MOBILENET Epoch 1: Loss=0.3745, Acc=87.80%\n"
          ]
        },
        {
          "metadata": {
            "tags": null
          },
          "name": "stderr",
          "output_type": "stream",
          "text": [
            "MOBILENET Epoch 2/10: 100%|██████████| 618/618 [02:48<00:00,  3.66it/s]\n"
          ]
        },
        {
          "metadata": {
            "tags": null
          },
          "name": "stdout",
          "output_type": "stream",
          "text": [
            "✅ MOBILENET Epoch 2: Loss=0.1939, Acc=93.68%\n"
          ]
        },
        {
          "metadata": {
            "tags": null
          },
          "name": "stderr",
          "output_type": "stream",
          "text": [
            "MOBILENET Epoch 3/10: 100%|██████████| 618/618 [02:54<00:00,  3.54it/s]\n"
          ]
        },
        {
          "metadata": {
            "tags": null
          },
          "name": "stdout",
          "output_type": "stream",
          "text": [
            "✅ MOBILENET Epoch 3: Loss=0.1391, Acc=95.61%\n"
          ]
        },
        {
          "metadata": {
            "tags": null
          },
          "name": "stderr",
          "output_type": "stream",
          "text": [
            "MOBILENET Epoch 4/10: 100%|██████████| 618/618 [02:48<00:00,  3.67it/s]\n"
          ]
        },
        {
          "metadata": {
            "tags": null
          },
          "name": "stdout",
          "output_type": "stream",
          "text": [
            "✅ MOBILENET Epoch 4: Loss=0.1191, Acc=96.11%\n"
          ]
        },
        {
          "metadata": {
            "tags": null
          },
          "name": "stderr",
          "output_type": "stream",
          "text": [
            "MOBILENET Epoch 5/10: 100%|██████████| 618/618 [02:47<00:00,  3.69it/s]\n"
          ]
        },
        {
          "metadata": {
            "tags": null
          },
          "name": "stdout",
          "output_type": "stream",
          "text": [
            "✅ MOBILENET Epoch 5: Loss=0.0903, Acc=97.08%\n"
          ]
        },
        {
          "metadata": {
            "tags": null
          },
          "name": "stderr",
          "output_type": "stream",
          "text": [
            "MOBILENET Epoch 6/10: 100%|██████████| 618/618 [02:47<00:00,  3.68it/s]\n"
          ]
        },
        {
          "metadata": {
            "tags": null
          },
          "name": "stdout",
          "output_type": "stream",
          "text": [
            "✅ MOBILENET Epoch 6: Loss=0.0833, Acc=97.18%\n"
          ]
        },
        {
          "metadata": {
            "tags": null
          },
          "name": "stderr",
          "output_type": "stream",
          "text": [
            "MOBILENET Epoch 7/10: 100%|██████████| 618/618 [02:48<00:00,  3.67it/s]\n"
          ]
        },
        {
          "metadata": {
            "tags": null
          },
          "name": "stdout",
          "output_type": "stream",
          "text": [
            "✅ MOBILENET Epoch 7: Loss=0.0749, Acc=97.55%\n"
          ]
        },
        {
          "metadata": {
            "tags": null
          },
          "name": "stderr",
          "output_type": "stream",
          "text": [
            "MOBILENET Epoch 8/10: 100%|██████████| 618/618 [02:47<00:00,  3.69it/s]\n"
          ]
        },
        {
          "metadata": {
            "tags": null
          },
          "name": "stdout",
          "output_type": "stream",
          "text": [
            "✅ MOBILENET Epoch 8: Loss=0.0651, Acc=97.82%\n"
          ]
        },
        {
          "output_type": "stream",
          "name": "stderr",
          "text": [
            "MOBILENET Epoch 9/10: 100%|██████████| 618/618 [02:46<00:00,  3.70it/s]\n"
          ]
        },
        {
          "output_type": "stream",
          "name": "stdout",
          "text": [
            "✅ MOBILENET Epoch 9: Loss=0.0677, Acc=97.81%\n"
          ]
        },
        {
          "output_type": "stream",
          "name": "stderr",
          "text": [
            "MOBILENET Epoch 10/10: 100%|██████████| 618/618 [02:47<00:00,  3.68it/s]"
          ]
        },
        {
          "output_type": "stream",
          "name": "stdout",
          "text": [
            "✅ MOBILENET Epoch 10: Loss=0.0591, Acc=97.99%\n",
            "📦 Saved model as mobilenet_garbage.pth\n",
            "🧠 Predicted: glass (96.68%) ➡️ Non-Biodegradable\n"
          ]
        },
        {
          "output_type": "stream",
          "name": "stderr",
          "text": [
            "\n"
          ]
        },
        {
          "output_type": "execute_result",
          "data": {
            "text/plain": [
              "('glass', 'Non-Biodegradable')"
            ]
          },
          "metadata": {},
          "execution_count": 24
        }
      ]
    },
    {
      "cell_type": "markdown",
      "source": [
        "### **7. Model Analysis Function (Accuracy, Loss, Per-Class Accuracy)**"
      ],
      "metadata": {
        "id": "VW-LC9AflTx_"
      }
    },
    {
      "cell_type": "code",
      "source": [
        "from sklearn.metrics import classification_report, confusion_matrix\n",
        "import matplotlib.pyplot as plt\n",
        "import seaborn as sns\n",
        "import numpy as np\n",
        "import torch\n",
        "\n",
        "def analyze_model(model, dataloader, class_names, device):\n",
        "    model.eval()\n",
        "    all_preds, all_labels = [], []\n",
        "\n",
        "    with torch.no_grad():\n",
        "        for images, labels in dataloader:\n",
        "            images, labels = images.to(device), labels.to(device)\n",
        "            outputs = model(images)\n",
        "            preds = outputs.argmax(dim=1)\n",
        "            all_preds.extend(preds.cpu().numpy())\n",
        "            all_labels.extend(labels.cpu().numpy())\n",
        "\n",
        "    # Print classification report\n",
        "    report = classification_report(all_labels, all_preds, target_names=class_names, digits=3)\n",
        "    print(\"📊 Classification Report:\\n\")\n",
        "    print(report)\n",
        "\n",
        "    # Confusion matrix\n",
        "    cm = confusion_matrix(all_labels, all_preds)\n",
        "    plt.figure(figsize=(10, 8))\n",
        "    sns.heatmap(cm, annot=True, fmt='d', cmap='Blues',\n",
        "                xticklabels=class_names, yticklabels=class_names)\n",
        "    plt.title(\"🧾 Confusion Matrix\")\n",
        "    plt.xlabel(\"Predicted\")\n",
        "    plt.ylabel(\"Actual\")\n",
        "    plt.show()\n",
        "\n",
        "    return report\n"
      ],
      "metadata": {
        "id": "d2cHQoxKidbs"
      },
      "execution_count": 35,
      "outputs": []
    },
    {
      "cell_type": "markdown",
      "source": [
        "### 8. Per-Model Comparison Helper"
      ],
      "metadata": {
        "id": "PziMjfPZluqj"
      }
    },
    {
      "cell_type": "code",
      "source": [
        "import torch\n",
        "\n",
        "\n",
        "def compare_models(model_names, dataloader, class_names, num_classes, device):\n",
        "    all_reports = {}\n",
        "\n",
        "    for name in model_names:\n",
        "        print(f\"\\n🔍 Analyzing {name.upper()}\")\n",
        "\n",
        "        model = get_model(name, num_classes, device)\n",
        "        model_path = f\"{name}_garbage.pth\"\n",
        "\n",
        "        try:\n",
        "            model.load_state_dict(torch.load(model_path, map_location=device))\n",
        "            model.to(device)\n",
        "            report = analyze_model(model, dataloader, class_names, device)\n",
        "            all_reports[name] = report\n",
        "        except FileNotFoundError:\n",
        "            print(f\"❌ Model weights not found for {name}: {model_path}\")\n",
        "\n",
        "    return all_reports\n"
      ],
      "metadata": {
        "id": "KR9rD6jCie9_"
      },
      "execution_count": null,
      "outputs": []
    },
    {
      "cell_type": "markdown",
      "source": [
        "### 9.Analysis"
      ],
      "metadata": {
        "id": "4_3vu1HFl5KN"
      }
    },
    {
      "cell_type": "code",
      "source": [
        "import os\n",
        "import shutil\n",
        "import random\n",
        "\n",
        "# Source and target directories\n",
        "source_root = '/content/garbage_data/garbage-dataset'\n",
        "target_root = '/content/test_data'\n",
        "\n",
        "# Ensure target root exists\n",
        "os.makedirs(target_root, exist_ok=True)\n",
        "\n",
        "# Loop through each class folder\n",
        "for class_name in os.listdir(source_root):\n",
        "    source_class_dir = os.path.join(source_root, class_name)\n",
        "    target_class_dir = os.path.join(target_root, class_name)\n",
        "\n",
        "    if not os.path.isdir(source_class_dir):\n",
        "        continue\n",
        "\n",
        "    # Create target class directory\n",
        "    os.makedirs(target_class_dir, exist_ok=True)\n",
        "\n",
        "    # Randomly select 100 images\n",
        "    all_images = os.listdir(source_class_dir)\n",
        "    selected_images = random.sample(all_images, min(100, len(all_images)))\n",
        "\n",
        "    # Copy selected images\n",
        "    for img_name in selected_images:\n",
        "        src_path = os.path.join(source_class_dir, img_name)\n",
        "        dst_path = os.path.join(target_class_dir, img_name)\n",
        "        shutil.copy(src_path, dst_path)\n",
        "\n",
        "print(\"✅ 100 images per class copied to 'test_data' successfully!\")\n"
      ],
      "metadata": {
        "id": "yn0k_c9g4HKo",
        "colab": {
          "base_uri": "https://localhost:8080/"
        },
        "outputId": "92f7cb18-4891-42cb-d1c6-b391af584d26"
      },
      "execution_count": 30,
      "outputs": [
        {
          "output_type": "stream",
          "name": "stdout",
          "text": [
            "✅ 100 images per class copied to 'test_data' successfully!\n"
          ]
        }
      ]
    },
    {
      "cell_type": "code",
      "source": [
        "from torchvision import datasets, transforms\n",
        "from torch.utils.data import DataLoader\n",
        "\n",
        "# Define test data directory\n",
        "test_dir = \"test_data\"\n",
        "\n",
        "# Define same transforms used during training\n",
        "test_transform = transforms.Compose([\n",
        "    transforms.Resize((224, 224)),\n",
        "    transforms.ToTensor(),\n",
        "    transforms.Normalize(mean=[0.485, 0.456, 0.406],  # ImageNet stats\n",
        "                         std=[0.229, 0.224, 0.225])\n",
        "])\n"
      ],
      "metadata": {
        "id": "IwpCFNbt3fOL"
      },
      "execution_count": 31,
      "outputs": []
    },
    {
      "cell_type": "code",
      "source": [
        "# Create test dataset and dataloader\n",
        "test_dataset = datasets.ImageFolder(root=test_dir, transform=test_transform)\n",
        "test_loader = DataLoader(test_dataset, batch_size=32, shuffle=False)\n",
        "\n",
        "# Extract class names\n",
        "class_names = test_dataset.classes\n"
      ],
      "metadata": {
        "id": "_3pmoqhC3bY4"
      },
      "execution_count": 32,
      "outputs": []
    },
    {
      "cell_type": "code",
      "source": [
        "model_names = ['resnet', 'mobilenet', 'efficientnet']\n",
        "device = torch.device(\"cuda\" if torch.cuda.is_available() else \"cpu\")\n",
        "num_classes = len(class_names)\n",
        "\n",
        "# Run comparison\n",
        "reports = {}\n",
        "for name in model_names:\n",
        "    print(f\"\\n🔍 Analyzing {name.upper()}\")\n",
        "\n",
        "    model = get_model(name)  # Only pass name\n",
        "    model_path = f\"{name}_garbage.pth\"\n",
        "\n",
        "    try:\n",
        "        model.load_state_dict(torch.load(model_path, map_location=device))\n",
        "        model.to(device)\n",
        "        report = analyze_model(model, test_loader, class_names, device)\n",
        "        reports[name] = report\n",
        "    except FileNotFoundError:\n",
        "        print(f\"❌ Model weights not found for {name}: {model_path}\")\n",
        "\n",
        "# Optional: Save reports\n",
        "for model_name, report in reports.items():\n",
        "    with open(f\"{model_name}_report.txt\", \"w\") as f:\n",
        "        f.write(report)\n"
      ],
      "metadata": {
        "colab": {
          "base_uri": "https://localhost:8080/",
          "height": 1000
        },
        "id": "vZByaBZAihK6",
        "outputId": "27bd5306-8074-4139-d122-64d2cbb0563e"
      },
      "execution_count": 36,
      "outputs": [
        {
          "output_type": "stream",
          "name": "stdout",
          "text": [
            "\n",
            "🔍 Analyzing RESNET\n"
          ]
        },
        {
          "output_type": "stream",
          "name": "stderr",
          "text": [
            "/usr/local/lib/python3.11/dist-packages/torchvision/models/_utils.py:208: UserWarning: The parameter 'pretrained' is deprecated since 0.13 and may be removed in the future, please use 'weights' instead.\n",
            "  warnings.warn(\n",
            "/usr/local/lib/python3.11/dist-packages/torchvision/models/_utils.py:223: UserWarning: Arguments other than a weight enum or `None` for 'weights' are deprecated since 0.13 and may be removed in the future. The current behavior is equivalent to passing `weights=ResNet18_Weights.IMAGENET1K_V1`. You can also use `weights=ResNet18_Weights.DEFAULT` to get the most up-to-date weights.\n",
            "  warnings.warn(msg)\n"
          ]
        },
        {
          "output_type": "stream",
          "name": "stdout",
          "text": [
            "📊 Classification Report:\n",
            "\n",
            "              precision    recall  f1-score   support\n",
            "\n",
            "     battery      0.989     0.989     0.989       268\n",
            "  biological      1.000     1.000     1.000       277\n",
            "   cardboard      0.965     0.993     0.979       278\n",
            "     clothes      1.000     1.000     1.000       294\n",
            "       glass      1.000     0.970     0.985       296\n",
            "       metal      0.989     0.993     0.991       269\n",
            "       paper      0.996     0.971     0.984       280\n",
            "     plastic      0.976     0.996     0.986       280\n",
            "       shoes      0.989     0.989     0.989       278\n",
            "       trash      0.996     1.000     0.998       267\n",
            "\n",
            "    accuracy                          0.990      2787\n",
            "   macro avg      0.990     0.990     0.990      2787\n",
            "weighted avg      0.990     0.990     0.990      2787\n",
            "\n"
          ]
        },
        {
          "output_type": "stream",
          "name": "stderr",
          "text": [
            "/usr/local/lib/python3.11/dist-packages/IPython/core/pylabtools.py:151: UserWarning: Glyph 129534 (\\N{RECEIPT}) missing from font(s) DejaVu Sans.\n",
            "  fig.canvas.print_figure(bytes_io, **kw)\n"
          ]
        },
        {
          "output_type": "display_data",
          "data": {
            "text/plain": [
              "<Figure size 1000x800 with 2 Axes>"
            ],
            "image/png": "[encoded data removed]"
          },
          "metadata": {}
        },
        {
          "output_type": "stream",
          "name": "stdout",
          "text": [
            "\n",
            "🔍 Analyzing MOBILENET\n"
          ]
        },
        {
          "output_type": "stream",
          "name": "stderr",
          "text": [
            "/usr/local/lib/python3.11/dist-packages/torchvision/models/_utils.py:208: UserWarning: The parameter 'pretrained' is deprecated since 0.13 and may be removed in the future, please use 'weights' instead.\n",
            "  warnings.warn(\n",
            "/usr/local/lib/python3.11/dist-packages/torchvision/models/_utils.py:223: UserWarning: Arguments other than a weight enum or `None` for 'weights' are deprecated since 0.13 and may be removed in the future. The current behavior is equivalent to passing `weights=MobileNet_V2_Weights.IMAGENET1K_V1`. You can also use `weights=MobileNet_V2_Weights.DEFAULT` to get the most up-to-date weights.\n",
            "  warnings.warn(msg)\n"
          ]
        },
        {
          "output_type": "stream",
          "name": "stdout",
          "text": [
            "📊 Classification Report:\n",
            "\n",
            "              precision    recall  f1-score   support\n",
            "\n",
            "     battery      1.000     1.000     1.000       268\n",
            "  biological      0.996     0.975     0.985       277\n",
            "   cardboard      0.996     0.993     0.995       278\n",
            "     clothes      1.000     1.000     1.000       294\n",
            "       glass      0.990     0.993     0.992       296\n",
            "       metal      0.996     0.993     0.994       269\n",
            "       paper      0.996     0.986     0.991       280\n",
            "     plastic      0.972     0.989     0.981       280\n",
            "       shoes      1.000     1.000     1.000       278\n",
            "       trash      0.978     0.996     0.987       267\n",
            "\n",
            "    accuracy                          0.992      2787\n",
            "   macro avg      0.993     0.992     0.992      2787\n",
            "weighted avg      0.993     0.992     0.992      2787\n",
            "\n"
          ]
        },
        {
          "output_type": "stream",
          "name": "stderr",
          "text": [
            "/usr/local/lib/python3.11/dist-packages/IPython/core/pylabtools.py:151: UserWarning: Glyph 129534 (\\N{RECEIPT}) missing from font(s) DejaVu Sans.\n",
            "  fig.canvas.print_figure(bytes_io, **kw)\n"
          ]
        },
        {
          "output_type": "display_data",
          "data": {
            "text/plain": [
              "<Figure size 1000x800 with 2 Axes>"
            ],
            "image/png": "[encoded data removed]"
          },
          "metadata": {}
        },
        {
          "output_type": "stream",
          "name": "stderr",
          "text": [
            "/usr/local/lib/python3.11/dist-packages/torchvision/models/_utils.py:208: UserWarning: The parameter 'pretrained' is deprecated since 0.13 and may be removed in the future, please use 'weights' instead.\n",
            "  warnings.warn(\n",
            "/usr/local/lib/python3.11/dist-packages/torchvision/models/_utils.py:223: UserWarning: Arguments other than a weight enum or `None` for 'weights' are deprecated since 0.13 and may be removed in the future. The current behavior is equivalent to passing `weights=EfficientNet_B0_Weights.IMAGENET1K_V1`. You can also use `weights=EfficientNet_B0_Weights.DEFAULT` to get the most up-to-date weights.\n",
            "  warnings.warn(msg)\n"
          ]
        },
        {
          "output_type": "stream",
          "name": "stdout",
          "text": [
            "\n",
            "🔍 Analyzing EFFICIENTNET\n",
            "📊 Classification Report:\n",
            "\n",
            "              precision    recall  f1-score   support\n",
            "\n",
            "     battery      0.996     1.000     0.998       268\n",
            "  biological      1.000     1.000     1.000       277\n",
            "   cardboard      0.996     1.000     0.998       278\n",
            "     clothes      0.993     1.000     0.997       294\n",
            "       glass      1.000     0.993     0.997       296\n",
            "       metal      1.000     0.993     0.996       269\n",
            "       paper      1.000     1.000     1.000       280\n",
            "     plastic      1.000     1.000     1.000       280\n",
            "       shoes      0.996     0.993     0.995       278\n",
            "       trash      0.996     1.000     0.998       267\n",
            "\n",
            "    accuracy                          0.998      2787\n",
            "   macro avg      0.998     0.998     0.998      2787\n",
            "weighted avg      0.998     0.998     0.998      2787\n",
            "\n"
          ]
        },
        {
          "output_type": "stream",
          "name": "stderr",
          "text": [
            "/usr/local/lib/python3.11/dist-packages/IPython/core/pylabtools.py:151: UserWarning: Glyph 129534 (\\N{RECEIPT}) missing from font(s) DejaVu Sans.\n",
            "  fig.canvas.print_figure(bytes_io, **kw)\n"
          ]
        },
        {
          "output_type": "display_data",
          "data": {
            "text/plain": [
              "<Figure size 1000x800 with 2 Axes>"
            ],
            "image/png": "[encoded data removed]"
          },
          "metadata": {}
        }
      ]
    }
  ]
}